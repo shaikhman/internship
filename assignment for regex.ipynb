{
 "cells": [
  {
   "cell_type": "markdown",
   "id": "35f53d68",
   "metadata": {},
   "source": [
    "assignment\n"
   ]
  },
  {
   "cell_type": "markdown",
   "id": "0de91fe1",
   "metadata": {},
   "source": [
    "Question 1- Write a Python program to replace all occurrences of a space, comma, or dot with a\n",
    "colon.\n",
    "Sample Text- &#39;Python Exercises, PHP exercises.&#39;\n",
    "Expected Output: Python:Exercises::PHP:exercises:"
   ]
  },
  {
   "cell_type": "code",
   "execution_count": 3,
   "id": "05b8dfa6",
   "metadata": {},
   "outputs": [],
   "source": [
    "text=\"Python Exercises, PHP exercises.\""
   ]
  },
  {
   "cell_type": "code",
   "execution_count": 8,
   "id": "a732fd42",
   "metadata": {},
   "outputs": [],
   "source": [
    "#to replace we have a replace_chars and also we can replace by naming what we want to replace for eg. comma dot or colon...\n",
    "\n",
    "result=text.replace(\" \",\":\").replace(\",\",\":\").replace(\".\",\":\")"
   ]
  },
  {
   "cell_type": "code",
   "execution_count": 9,
   "id": "6749dbc7",
   "metadata": {},
   "outputs": [
    {
     "name": "stdout",
     "output_type": "stream",
     "text": [
      "Python:Exercises::PHP:exercises:\n"
     ]
    }
   ],
   "source": [
    "print(result)"
   ]
  },
  {
   "cell_type": "markdown",
   "id": "ee2074d3",
   "metadata": {},
   "source": [
    "Question 2- Create a dataframe using the dictionary below and remove everything (commas (,), !,\n",
    "XXXX, ;, etc.) from the columns except words.\n",
    "Dictionary- {&#39;SUMMARY&#39; : [&#39;hello, world!&#39;, &#39;XXXXX test&#39;, &#39;123four, five:; six...&#39;]}"
   ]
  },
  {
   "cell_type": "code",
   "execution_count": 11,
   "id": "9077b088",
   "metadata": {},
   "outputs": [],
   "source": [
    "#the dict is\n",
    "\n",
    "data = {'SUMMARY': ['hello, world!', 'XXXXX test', '123four, five:; six...']}\n",
    "\n",
    "#the dataframe will be \n",
    "\n",
    "df = pd.DataFrame(data)\n",
    "\n",
    "#here we remove everythng excpet words\n",
    "\n",
    "df['SUMMARY'] = df['SUMMARY'].str.replace('[^a-zA-Z\\s]', '', regex=True)"
   ]
  },
  {
   "cell_type": "code",
   "execution_count": 12,
   "id": "b2e82768",
   "metadata": {},
   "outputs": [
    {
     "name": "stdout",
     "output_type": "stream",
     "text": [
      "         SUMMARY\n",
      "0    hello world\n",
      "1     XXXXX test\n",
      "2  four five six\n"
     ]
    }
   ],
   "source": [
    "print(df)"
   ]
  },
  {
   "cell_type": "markdown",
   "id": "dfbb95fd",
   "metadata": {},
   "source": [
    "Question 3- Create a function in python to find all words that are at least 4 characters long in a\n",
    "string. The use of the re.compile() method is mandatory. "
   ]
  },
  {
   "cell_type": "code",
   "execution_count": null,
   "id": "10c27c3e",
   "metadata": {},
   "outputs": [],
   "source": [
    "#the function for finding the words in which four characters are present of four char long using the re.compile()method \n",
    "#after importing re the funct. is\n",
    "\n",
    " func = re.compile(r'\\b\\w{4,}\\b')\n"
   ]
  },
  {
   "cell_type": "markdown",
   "id": "032f7fb1",
   "metadata": {},
   "source": [
    "Question 4- Create a function in python to find all three, four, and five character words in a string.\n",
    "The use of the re.compile() method is mandatory."
   ]
  },
  {
   "cell_type": "code",
   "execution_count": null,
   "id": "6d320a48",
   "metadata": {},
   "outputs": [],
   "source": [
    "#the function for finding the words in which four characters are present of four char long using the re.compile()method \n",
    "#after importing re the funct. is\n",
    "\n",
    "def find_words(string):\n",
    "  func = re.compile(r'\\b\\w{3,5}\\b')\n",
    "  matches = func.findall(string)\n",
    "  return matches"
   ]
  },
  {
   "cell_type": "markdown",
   "id": "b2a8635b",
   "metadata": {},
   "source": [
    "Question 5- Create a function in Python to remove the parenthesis in a list of strings. The use of the\n",
    "re.compile() method is mandatory.\n",
    "Sample Text: [&quot;example (.com)&quot;, &quot;hr@fliprobo (.com)&quot;, &quot;github (.com)&quot;, &quot;Hello (Data Science World)&quot;,\n",
    "&quot;Data (Scientist)&quot;]\n",
    "Expected Output:\n",
    "example.com\n",
    "hr@fliprobo.com\n",
    "github.com\n",
    "Hello Data Science World\n",
    "Data Scientist"
   ]
  },
  {
   "cell_type": "code",
   "execution_count": 19,
   "id": "7cf04463",
   "metadata": {},
   "outputs": [],
   "source": [
    "import re"
   ]
  },
  {
   "cell_type": "code",
   "execution_count": 32,
   "id": "e523c662",
   "metadata": {},
   "outputs": [
    {
     "name": "stdout",
     "output_type": "stream",
     "text": [
      "example.com\n",
      "hr@fliprobo.com\n",
      "github.com\n",
      "Hello Data Science World\n",
      "DataScientist\n"
     ]
    }
   ],
   "source": [
    "def remove_parenthesis(text):   \n",
    "    for item in text:     \n",
    "        re_parenthesis=re.compile(r\" ?\\(| ?\\)\")     \n",
    "        print(re_parenthesis.sub(\"\", item)) \n",
    "items = [\"example (.com)\", \"hr@fliprobo (.com)\", \"github (.com)\", \"Hello ( Data Science World)\", \"Data (Scientist)\"] \n",
    "remove_parenthesis(items)"
   ]
  },
  {
   "cell_type": "code",
   "execution_count": 35,
   "id": "5e5b58b0",
   "metadata": {},
   "outputs": [
    {
     "name": "stdout",
     "output_type": "stream",
     "text": [
      "['example.com', 'hr@fliprobo.com', 'github.com', 'Hello Data Science World', 'DataScientist']\n",
      "['example.com', 'hr@fliprobo.com', 'github.com', 'Hello Data Science World', 'DataScientist']\n",
      "['example.com', 'hr@fliprobo.com', 'github.com', 'Hello Data Science World', 'DataScientist']\n",
      "['example.com', 'hr@fliprobo.com', 'github.com', 'Hello Data Science World', 'DataScientist']\n",
      "['example.com', 'hr@fliprobo.com', 'github.com', 'Hello Data Science World', 'DataScientist']\n"
     ]
    }
   ],
   "source": [
    "def Remove_parenthesis(string):    \n",
    "    pattern = re.compile(r' ?\\(| ?\\)')     \n",
    "    word = [pattern.sub('', s) for s in string]     \n",
    "    return word \n",
    "sample_text= [\"example (.com)\", \"hr@fliprobo (.com)\", \"github (.com)\", \"Hello ( Data Science World)\", \"Data (Scientist)\"]\n",
    "list = Remove_parenthesis(sample_text) \n",
    "for strings in list:   \n",
    "  print(list)"
   ]
  },
  {
   "cell_type": "markdown",
   "id": "b10cf81d",
   "metadata": {},
   "source": [
    "Question 6- Write a python program to remove the parenthesis area from the text stored in the text\n",
    "file using Regular Expression.\n",
    "Sample Text: [&quot;example (.com)&quot;, &quot;hr@fliprobo (.com)&quot;, &quot;github (.com)&quot;, &quot;Hello (Data Science World)&quot;,\n",
    "&quot;Data (Scientist)&quot;]\n",
    "Expected Output: [&quot;example&quot;, &quot;hr@fliprobo&quot;, &quot;github&quot;, &quot;Hello&quot;, &quot;Data&quot;]\n",
    "Note- Store given sample text in the text file and then to remove the parenthesis area from the text."
   ]
  },
  {
   "cell_type": "code",
   "execution_count": null,
   "id": "77919adb",
   "metadata": {},
   "outputs": [],
   "source": [
    "with open(sample text file input) as file:\n",
    "    for item in file:\n",
    "        print(re.sub(r\" ?\\([^)]+\\)\", \"\", item), end= \" \"))\n",
    "        \n",
    "output :[\"example\",\"hr@fliprobo\",\"github\",\"Hello\",\"Data\"]"
   ]
  },
  {
   "cell_type": "markdown",
   "id": "9ec213c8",
   "metadata": {},
   "source": [
    "Question 7- Write a regular expression in Python to split a string into uppercase letters.\n",
    "Sample text: “ImportanceOfRegularExpressionsInPython”\n",
    "Expected Output: [‘Importance’, ‘Of’, ‘Regular’, ‘Expression’, ‘In’, ‘Python’]"
   ]
  },
  {
   "cell_type": "code",
   "execution_count": 45,
   "id": "d88b91bf",
   "metadata": {},
   "outputs": [],
   "source": [
    "text=\"ImportanceOfRegular@ExpressionsInPython\" \n"
   ]
  },
  {
   "cell_type": "code",
   "execution_count": 46,
   "id": "012baa38",
   "metadata": {},
   "outputs": [
    {
     "name": "stdout",
     "output_type": "stream",
     "text": [
      "['Importance', 'Of', 'Regular@', 'Expressions', 'In', 'Python']\n"
     ]
    }
   ],
   "source": [
    "upper_case = [s for s in re.split(\"([A-Z][^A-Z]*)\", text) if s]  \n",
    "\n",
    "print(upper_case)"
   ]
  },
  {
   "cell_type": "markdown",
   "id": "faefbee2",
   "metadata": {},
   "source": [
    "Question 8- Create a function in python to insert spaces between words starting with numbers.\n",
    "Sample Text: “RegularExpression1IsAn2ImportantTopic3InPython&quot;\n",
    "Expected Output: RegularExpression 1IsAn 2ImportantTopic 3InPython"
   ]
  },
  {
   "cell_type": "code",
   "execution_count": 48,
   "id": "7a8bb41f",
   "metadata": {},
   "outputs": [
    {
     "name": "stdout",
     "output_type": "stream",
     "text": [
      "RegularExpression 1IsAn 2ImportantTopic 3InPython\n"
     ]
    }
   ],
   "source": [
    "def numbers_spaces(str1):   \n",
    "    return re.sub(r\"(\\w)([0-9])\", r\"\\1 \\2\", str1)  \n",
    "\n",
    "print(numbers_spaces(\"RegularExpression1IsAn2ImportantTopic3InPython\"))"
   ]
  },
  {
   "cell_type": "code",
   "execution_count": 50,
   "id": "3eede05d",
   "metadata": {},
   "outputs": [
    {
     "name": "stdout",
     "output_type": "stream",
     "text": [
      "regularExpression 4isan 2ImportantTopic 3InPython\n"
     ]
    }
   ],
   "source": [
    "def putSpace(input):\n",
    "    words = re.findall('\\w[a-zA-Z]*', input)    \n",
    "    print(' '.join(words))  \n",
    "input = 'regularExpression4isan2ImportantTopic3InPython' \n",
    "putSpace(input)"
   ]
  },
  {
   "cell_type": "markdown",
   "id": "1e8324e2",
   "metadata": {},
   "source": [
    "Question 9- Create a function in python to insert spaces between words starting with capital letters\n",
    "or with numbers.\n",
    "Sample Text: “RegularExpression1IsAn2ImportantTopic3InPython&quot;\n",
    "Expected Output: RegularExpression 1 IsAn 2 ImportantTopic 3 InPython"
   ]
  },
  {
   "cell_type": "code",
   "execution_count": 51,
   "id": "90acafb1",
   "metadata": {},
   "outputs": [
    {
     "name": "stdout",
     "output_type": "stream",
     "text": [
      "Regular Expression 1 Is An 2 Important Topic 3 In Python\n"
     ]
    }
   ],
   "source": [
    "def Insert_space(string):  \n",
    "    words = re.findall(r\"[0-9]|[A-Z][a-z]*\", string)    \n",
    "    print(' '.join(words))\n",
    "Insert_space(\"RegularExpression1IsAn2ImportantTopic3InPython\")"
   ]
  },
  {
   "cell_type": "code",
   "execution_count": 52,
   "id": "ea755529",
   "metadata": {},
   "outputs": [
    {
     "name": "stdout",
     "output_type": "stream",
     "text": [
      "Regular Expression 1 Is An 2 Important Topic 3 In Python\n"
     ]
    }
   ],
   "source": [
    "def putSpace(input):     \n",
    "    words = re.findall('[A-Z0-9][a-z]*', input)    \n",
    "    print(' '.join(words))  \n",
    "    \n",
    "input = \"RegularExpression1IsAn2ImportantTopic3InPython\"\n",
    "putSpace(input)"
   ]
  },
  {
   "cell_type": "markdown",
   "id": "5a489145",
   "metadata": {},
   "source": [
    "Question 10- Use the github link below to read the data and create a dataframe. After creating the\n",
    "dataframe extract the first 6 letters of each country and store in the dataframe under a new column\n",
    "called first_five_letters.\n",
    "Github Link-\n",
    "https://raw.githubusercontent.com/dsrscientist/DSData/master/happiness_score_dataset.csv"
   ]
  },
  {
   "cell_type": "code",
   "execution_count": null,
   "id": "6d06679e",
   "metadata": {},
   "outputs": [],
   "source": []
  },
  {
   "cell_type": "markdown",
   "id": "4e417118",
   "metadata": {},
   "source": [
    "Question 11- Write a Python program to match a string that contains only upper and lowercase\n",
    "letters, numbers, and underscores."
   ]
  },
  {
   "cell_type": "code",
   "execution_count": 53,
   "id": "4c0b5630",
   "metadata": {},
   "outputs": [],
   "source": [
    "import re\n",
    "\n",
    "def match_string(input_string):\n",
    "    pattern = r'^[a-zA-Z0-9_]*$'\n",
    "    if re.match(pattern, input_string):\n",
    "        return True\n",
    "    else:\n",
    "        return False"
   ]
  },
  {
   "cell_type": "code",
   "execution_count": 56,
   "id": "54875875",
   "metadata": {},
   "outputs": [
    {
     "name": "stdout",
     "output_type": "stream",
     "text": [
      "Good123_Morning matches the pattern\n",
      "Good@Noon does not match the pattern\n"
     ]
    }
   ],
   "source": [
    "#for example\n",
    "string_1 = \"Good123_Morning\"\n",
    "string_2 = \"Good@Noon\"\n",
    "\n",
    "if match_string(string_1):\n",
    "    print(string_1, \"matches the pattern\")\n",
    "else:\n",
    "    print(string_1, \"does not match the pattern\")\n",
    "\n",
    "if match_string(string_2):\n",
    "    print(string_2, \"matches the pattern\")\n",
    "else:\n",
    "    print(string_2, \"does not match the pattern\")"
   ]
  },
  {
   "cell_type": "markdown",
   "id": "e35637ba",
   "metadata": {},
   "source": [
    "Question 12- Write a Python program where a string will start with a specific number."
   ]
  },
  {
   "cell_type": "code",
   "execution_count": 57,
   "id": "d906a973",
   "metadata": {},
   "outputs": [
    {
     "name": "stdout",
     "output_type": "stream",
     "text": [
      "The string starts with the number 123.\n"
     ]
    }
   ],
   "source": [
    "def starts_with_number(string, number):\n",
    "    # Convert the number to a string for comparison\n",
    "    number_str = str(number)\n",
    "    \n",
    "    # Checking if the string starts with the number\n",
    "    return string.startswith(number_str)\n",
    "\n",
    "# for example\n",
    "string_to_check = \"12345Hello\"\n",
    "number_to_check = 123\n",
    "\n",
    "if starts_with_number(string_to_check, number_to_check):\n",
    "    print(f\"The string starts with the number {number_to_check}.\")\n",
    "else:\n",
    "    print(f\"The string does not start with the number {number_to_check}.\")"
   ]
  },
  {
   "cell_type": "markdown",
   "id": "f393bd1a",
   "metadata": {},
   "source": [
    "Question 13- Write a Python program to remove leading zeros from an IP address"
   ]
  },
  {
   "cell_type": "code",
   "execution_count": 58,
   "id": "1a9b7483",
   "metadata": {},
   "outputs": [
    {
     "name": "stdout",
     "output_type": "stream",
     "text": [
      "286.5.34.136\n"
     ]
    }
   ],
   "source": [
    "#random ip adress\n",
    "\n",
    "ip = \"286.05.034.136\" \n",
    "string = re.sub('\\.[0]*', '.', ip) \n",
    "print(string)"
   ]
  },
  {
   "cell_type": "markdown",
   "id": "042c4561",
   "metadata": {},
   "source": [
    "Question 14- Write a regular expression in python to match a date string in the form of Month name\n",
    "followed by day number and year stored in a text file.\n",
    "Sample text : &#39; On August 15th 1947 that India was declared independent from British colonialism, and\n",
    "the reins of control were handed over to the leaders of the Country’.\n",
    "Expected Output- August 15th 1947\n",
    "Note- Store given sample text in the text file and then extract the date string asked format."
   ]
  },
  {
   "cell_type": "code",
   "execution_count": null,
   "id": "b2c5bba7",
   "metadata": {},
   "outputs": [],
   "source": [
    "with open(\"sample text) as file:        \n",
    "    for line in file:             \n",
    "        pattern = \"([a-zA-Z]+) (\\d+[a-z]+) (\\d+)\"  \n",
    "        \n",
    "        matched = re.search(pattern, line)           \n",
    "        print (\"Output: %s\" % (matched.group()))\n",
    "          \n",
    "output will be :August 15th 1957"
   ]
  },
  {
   "cell_type": "markdown",
   "id": "b91afdca",
   "metadata": {},
   "source": [
    "Question 15- Write a Python program to search some literals strings in a string.\n",
    "Sample text : &#39;The quick brown fox jumps over the lazy dog.&#39;\n",
    "Searched words : &#39;fox&#39;, &#39;dog&#39;, &#39;horse&#39;"
   ]
  },
  {
   "cell_type": "code",
   "execution_count": 63,
   "id": "fafa6bec",
   "metadata": {},
   "outputs": [
    {
     "name": "stdout",
     "output_type": "stream",
     "text": [
      "Searching for \"fox\" in \"The quick brown fox jumps over the lazy dog.\" \n",
      "['fox']\n",
      "Literal Found\n",
      "\n",
      "Searching for \"dog\" in \"The quick brown fox jumps over the lazy dog.\" \n",
      "['dog']\n",
      "Literal Found\n",
      "\n",
      "Searching for \"horse\" in \"The quick brown fox jumps over the lazy dog.\" \n",
      "Literal Not Found\n"
     ]
    }
   ],
   "source": [
    "patterns= ['fox','dog','horse']\n",
    "text = 'The quick brown fox jumps over the lazy dog.'  \n",
    "for pattern in patterns:     \n",
    "    print('Searching for \"%s\" in \"%s\" ' % (pattern, text))   \n",
    "    x=re.findall(pattern,  text)     \n",
    "    if x:         \n",
    "        print(x)        \n",
    "        print('Literal Found\\n')  \n",
    "    else:        \n",
    "        print('Literal Not Found')"
   ]
  },
  {
   "cell_type": "markdown",
   "id": "bc458442",
   "metadata": {},
   "source": [
    "Question 16- Write a Python program to search a literals string in a string and also find the location\n",
    "within the original string where the pattern occurs\n",
    "Sample text : &#39;The quick brown fox jumps over the lazy dog.&#39;\n",
    "Searched words : &#39;fox&#39;"
   ]
  },
  {
   "cell_type": "code",
   "execution_count": 64,
   "id": "5b05e5f5",
   "metadata": {},
   "outputs": [
    {
     "name": "stdout",
     "output_type": "stream",
     "text": [
      "Found \"fox\" in \"The quick brown fox jumps over the lazy dog.\" from 16 to 19 \n"
     ]
    }
   ],
   "source": [
    "pattern = 'fox' \n",
    "text = 'The quick brown fox jumps over the lazy dog.' \n",
    "match = re.search(pattern, text) \n",
    "s = match.start() \n",
    "e = match.end() \n",
    "print('Found \"%s\" in \"%s\" from %d to %d ' % (match.re.pattern, match.string, s, e))"
   ]
  },
  {
   "cell_type": "markdown",
   "id": "252ba09e",
   "metadata": {},
   "source": [
    "Question 17- Write a Python program to find the substrings within a string.\n",
    "Sample text : &#39;Python exercises, PHP exercises, C# exercises&#39;\n",
    "Pattern : &#39;exercises&#39;."
   ]
  },
  {
   "cell_type": "code",
   "execution_count": 65,
   "id": "3f8895d7",
   "metadata": {},
   "outputs": [
    {
     "name": "stdout",
     "output_type": "stream",
     "text": [
      "Found \"exercises\"\n",
      "Found \"exercises\"\n",
      "Found \"exercises\"\n"
     ]
    }
   ],
   "source": [
    "text = 'Python exercises, PHP exercises, C# exercises'\n",
    "pattern = 'exercises' \n",
    "for match in re.findall(pattern, text):    \n",
    "    print('Found \"%s\"' % match)"
   ]
  },
  {
   "cell_type": "markdown",
   "id": "f9d578bc",
   "metadata": {},
   "source": [
    "Question 18- Write a Python program to find the occurrence and position of the substrings within a\n",
    "string."
   ]
  },
  {
   "cell_type": "code",
   "execution_count": 66,
   "id": "ee5347ba",
   "metadata": {},
   "outputs": [
    {
     "name": "stdout",
     "output_type": "stream",
     "text": [
      "Found \"questions\" at 9:18\n",
      "Found \"questions\" at 24:33\n",
      "Found \"questions\" at 38:47\n"
     ]
    }
   ],
   "source": [
    "# for example\n",
    "text = 'practice questions, PTC questions, a# questions'\n",
    "pattern = 'questions' \n",
    "for match in re.finditer(pattern, text):    \n",
    "    s = match.start()    \n",
    "    e = match.end()     \n",
    "    print('Found \"%s\" at %d:%d' % (text[s:e], s, e))"
   ]
  },
  {
   "cell_type": "markdown",
   "id": "9b390e01",
   "metadata": {},
   "source": [
    "Question 19- Write a Python program to convert a date of yyyy-mm-dd format to dd-mm-yyyy\n",
    "format."
   ]
  },
  {
   "cell_type": "code",
   "execution_count": 67,
   "id": "20fb22e4",
   "metadata": {},
   "outputs": [
    {
     "name": "stdout",
     "output_type": "stream",
     "text": [
      "Original date in YYY-MM-DD Format:  2024-03-01\n",
      "New date in DD-MM-YYYY Format:  01-03-2024\n"
     ]
    }
   ],
   "source": [
    "# for example \n",
    "def change_date_format(dt):        \n",
    "    return re.sub(r'(\\d{4})-(\\d{1,2})-(\\d{1,2})', '\\\\3-\\\\2-\\\\1', dt) \n",
    "date1 = \"2024-03-01\" \n",
    "print(\"Original date in YYY-MM-DD Format: \",date1) \n",
    "print(\"New date in DD-MM-YYYY Format: \",change_date_format(date1))"
   ]
  },
  {
   "cell_type": "markdown",
   "id": "dc1e1d12",
   "metadata": {},
   "source": [
    "Question 20- Create a function in python to find all decimal numbers with a precision of 1 or 2 in a\n",
    "string. The use of the re.compile() method is mandatory.\n",
    "Sample Text: &quot;01.12 0132.123 2.31875 145.8 3.01 27.25 0.25&quot;\n",
    "Expected Output: [&#39;01.12&#39;, &#39;145.8&#39;, &#39;3.01&#39;, &#39;27.25&#39;, &#39;0.25&#39;]"
   ]
  },
  {
   "cell_type": "code",
   "execution_count": 68,
   "id": "4196199d",
   "metadata": {},
   "outputs": [
    {
     "name": "stdout",
     "output_type": "stream",
     "text": [
      "['01.12', '145.8', '3.01', '27.25', '0.25']\n"
     ]
    }
   ],
   "source": [
    "def decimal_with_precision(string):    \n",
    "    \n",
    "    deci_num = re.compile(r\"\\b([0-9]+\\.[0-9]{1,2})\\b\")   \n",
    "    result = deci_num.findall(text)   \n",
    "    print(result) \n",
    "    \n",
    "text= \"01.12 0132.123 2.31875 145.8 3.01 27.25 0.25\" \n",
    "decimal_with_precision(text)"
   ]
  },
  {
   "cell_type": "markdown",
   "id": "1dcf2893",
   "metadata": {},
   "source": [
    "Question 21- Write a Python program to separate and print the numbers and their position of a\n",
    "given string."
   ]
  },
  {
   "cell_type": "code",
   "execution_count": 71,
   "id": "37ceaf8d",
   "metadata": {},
   "outputs": [
    {
     "name": "stdout",
     "output_type": "stream",
     "text": [
      "75\n",
      "Index position: 16\n",
      "10\n",
      "Index position: 36\n"
     ]
    }
   ],
   "source": [
    "text = \"The city has of 75 small hospitals. 10 multispeciality hospital\"\n",
    "\n",
    "for h in re.finditer(\"\\d+\", text): \n",
    "        print(h.group(0))     \n",
    "        print(\"Index position:\", h.start())"
   ]
  },
  {
   "cell_type": "markdown",
   "id": "ccef9416",
   "metadata": {},
   "source": [
    "Question 22- Write a regular expression in python program to extract maximum/largest numeric\n",
    "value from a string.\n",
    "Sample Text: &#39;My marks in each semester are: 947, 896, 926, 524, 734, 950, 642&#39;\n",
    "Expected Output: 950"
   ]
  },
  {
   "cell_type": "code",
   "execution_count": 72,
   "id": "a2e80eed",
   "metadata": {},
   "outputs": [
    {
     "name": "stdout",
     "output_type": "stream",
     "text": [
      "['947', '896', '926', '524', '734', '950', '642']\n",
      "Maximum Numeric value is  950\n"
     ]
    }
   ],
   "source": [
    "def extractMax(input):     \n",
    "    numbers = re.findall('\\d+',input)    \n",
    "    print(numbers)\n",
    "    \n",
    "    #converting the string into integer each\n",
    "    \n",
    "    numbers = map(int,numbers)    \n",
    "    \n",
    "    print (\"Maximum Numeric value is \",max(numbers))  \n",
    "    \n",
    "input = 'My marks in each semester are: 947, 896, 926, 524, 734, 950, 642' \n",
    "extractMax(input)"
   ]
  },
  {
   "cell_type": "markdown",
   "id": "44990f5c",
   "metadata": {},
   "source": [
    "Question 23- Create a function in python to insert spaces between words starting with capital\n",
    "letters.\n",
    "Sample Text: “RegularExpressionIsAnImportantTopicInPython&quot;\n",
    "Expected Output: Regular Expression Is An Important Topic In Python"
   ]
  },
  {
   "cell_type": "code",
   "execution_count": 73,
   "id": "d040ecb2",
   "metadata": {},
   "outputs": [
    {
     "name": "stdout",
     "output_type": "stream",
     "text": [
      "Regular Expression Is An Important Topic In Python\n"
     ]
    }
   ],
   "source": [
    "def putspaces1(str1):   \n",
    "    return re.sub(r\"(\\w)([A-Z])\", r\"\\1 \\2\", str1) \n",
    "\n",
    "print(putspaces1(\"RegularExpressionIsAnImportantTopicInPython\"))"
   ]
  },
  {
   "cell_type": "markdown",
   "id": "57d3394c",
   "metadata": {},
   "source": [
    "Question 24- Python regex to find sequences of one upper case letter followed by lower case letters"
   ]
  },
  {
   "cell_type": "code",
   "execution_count": 74,
   "id": "42e8af13",
   "metadata": {},
   "outputs": [
    {
     "name": "stdout",
     "output_type": "stream",
     "text": [
      "No\n",
      "Yes\n",
      "No\n"
     ]
    }
   ],
   "source": [
    "def match(text):         \n",
    "    pattern = '[A-Z][a-z]*$' \n",
    "    \n",
    "    if re.search(pattern, text):                 \n",
    "        return('Yes')         \n",
    "    else:                 \n",
    "        return('No')\n",
    "    \n",
    "print(match(\"Hello world\")) \n",
    "print(match(\"Hello World\")) \n",
    "print(match(\"hello world\"))"
   ]
  },
  {
   "cell_type": "markdown",
   "id": "ceaf0ec0",
   "metadata": {},
   "source": [
    "Question 25- Write a Python program to remove continuous duplicate words from Sentence using\n",
    "Regular Expression.\n",
    "Sample Text: &quot;Hello hello world world&quot;\n",
    "Expected Output: Hello hello world"
   ]
  },
  {
   "cell_type": "code",
   "execution_count": 98,
   "id": "0680bb94",
   "metadata": {},
   "outputs": [
    {
     "name": "stdout",
     "output_type": "stream",
     "text": [
      "Hello hello world\n"
     ]
    }
   ],
   "source": [
    "def removeDuplicateWords(input):   \n",
    "    \n",
    "    regex = r'\\b(\\w+)(?:\\W+\\1\\b)+'   \n",
    "    return re.sub(regex, r'\\1', input)\n",
    "\n",
    "sample_text2 = \"Hello hello world world\" \n",
    "print(removeDuplicateWords(sample_text2))"
   ]
  },
  {
   "cell_type": "markdown",
   "id": "b649429c",
   "metadata": {},
   "source": [
    "Question 26- Write a python program using RegEx to accept string ending with alphanumeric\n",
    "character."
   ]
  },
  {
   "cell_type": "code",
   "execution_count": 99,
   "id": "8f7d0387",
   "metadata": {},
   "outputs": [
    {
     "name": "stdout",
     "output_type": "stream",
     "text": [
      "The string is not ending with an alphanumeric character. \n",
      "\n",
      "The string is ending with an alphanumeric character. \n",
      "\n"
     ]
    }
   ],
   "source": [
    "regex = '[a-zA-z0-9]$' \n",
    "\n",
    "def check_alpha_numeric(string):     \n",
    "    if(re.search(regex, string)):         \n",
    "        print(\"The string is ending with an alphanumeric character. \\n\")     \n",
    "        \n",
    "    else:         \n",
    "        print(\"The string is not ending with an alphanumeric character. \\n\")   \n",
    "        \n",
    "check_alpha_numeric(\"go.\") \n",
    "check_alpha_numeric(\"go123\")"
   ]
  },
  {
   "cell_type": "markdown",
   "id": "31ad79e8",
   "metadata": {},
   "source": [
    "Question 27-Write a python program using RegEx to extract the hashtags.\n",
    "Sample Text: &quot;&quot;&quot;RT @kapil_kausik: #Doltiwal I mean #xyzabc is &quot;hurt&quot; by #Demonetization as the same\n",
    "has rendered USELESS &lt;ed&gt;&lt;U+00A0&gt;&lt;U+00BD&gt;&lt;ed&gt;&lt;U+00B1&gt;&lt;U+0089&gt; &quot;acquired funds&quot; No wo&quot;&quot;&quot;\n",
    "Expected Output: [&#39;#Doltiwal&#39;, &#39;#xyzabc&#39;, &#39;#Demonetization&#39;]"
   ]
  },
  {
   "cell_type": "code",
   "execution_count": 100,
   "id": "63feb182",
   "metadata": {},
   "outputs": [
    {
     "name": "stdout",
     "output_type": "stream",
     "text": [
      "Tweet:\n",
      " RT @kapil_kausik: #Doltiwal I mean #xyzabc is \"hurt\" by #Demonetization as the same has rendered USELESS <ed><U+00A0><U+00BD><ed><U+00B1><U+0089> \"acquired funds\" No wo\n",
      "\n",
      " Hashtag:\n",
      " ['#Doltiwal', '#xyzabc', '#Demonetization']\n"
     ]
    }
   ],
   "source": [
    "text = \"\"\"RT @kapil_kausik: #Doltiwal I mean #xyzabc is \"hurt\" by #Demonetization as the same has rendered USELESS <ed><U+00A0><U+00BD><ed><U+00B1><U+0089> \"acquired funds\" No wo\"\"\"\n",
    "\n",
    "hashtags = re.findall(r\"#\\w+\", text)\n",
    "\n",
    "print(\"Tweet:\\n\", text) \n",
    "print(\"\\n Hashtag:\\n\", hashtags)"
   ]
  },
  {
   "cell_type": "markdown",
   "id": "442b09a7",
   "metadata": {},
   "source": [
    "Question 28- Write a python program using RegEx to remove &lt;U+..&gt; like symbols\n",
    "Check the below sample text, there are strange symbols something of the sort &lt;U+..&gt; all over the place.\n",
    "You need to come up with a general Regex expression that will cover all such symbols.\n",
    "Sample Text: &quot;@Jags123456 Bharat band on\n",
    "28??&lt;ed&gt;&lt;U+00A0&gt;&lt;U+00BD&gt;&lt;ed&gt;&lt;U+00B8&gt;&lt;U+0082&gt;Those who are protesting #demonetization are\n",
    "all different party leaders&quot;\n",
    "Expected Output: @Jags123456 Bharat band on 28??&lt;ed&gt;&lt;ed&gt;Those who are protesting\n",
    "#demonetization are all different party leaders"
   ]
  },
  {
   "cell_type": "code",
   "execution_count": 102,
   "id": "dcda0af1",
   "metadata": {},
   "outputs": [
    {
     "name": "stdout",
     "output_type": "stream",
     "text": [
      "Text before:\n",
      " @Jags123456 Bharat band on 28??<ed><U+00A0><U+00BD><ed><U+00B8><U+0082>Those who are protesting #demonetization are all different party leaders\n",
      "\n",
      " Text after:\n",
      " @Jags123456 Bharat band on 28??<ed><ed>Those who are protesting #demonetization are all different party leaders\n"
     ]
    }
   ],
   "source": [
    "text= \"@Jags123456 Bharat band on 28??<ed><U+00A0><U+00BD><ed><U+00B8><U+0082>Those who are protesting #demonetization are all different party leaders\" \n",
    "clean_text = re.sub(r\"<U\\+[A-Z0-9]+>\", \"\", text)  \n",
    "\n",
    "print(\"Text before:\\n\", text) \n",
    "print(\"\\n Text after:\\n\", clean_text)"
   ]
  },
  {
   "cell_type": "markdown",
   "id": "495062f7",
   "metadata": {},
   "source": [
    "Question 29- Write a python program to extract dates from the text stored in the text file.\n",
    "Sample Text: Ron was born on 12-09-1992 and he was admitted to school 15-12-1999.\n",
    "Note- Store this sample text in the file and then extract dates."
   ]
  },
  {
   "cell_type": "code",
   "execution_count": null,
   "id": "bdb43697",
   "metadata": {},
   "outputs": [],
   "source": [
    "import re \n",
    "with open (\"C:\\Users\\Lenovo\\Documents\\sample_text1.docx\") as file:\n",
    "        for line in file:             \n",
    "            emails = re.findall(r\"\\d{2}-\\d{2}-\\d{4}\", line)             \n",
    "            print(emails)\n",
    "            \n",
    "            output will be dates only."
   ]
  },
  {
   "cell_type": "markdown",
   "id": "342e632d",
   "metadata": {},
   "source": [
    "Question 30- Create a function in python to remove all words from a string of length between 2 and\n",
    "4.\n",
    "The use of the re.compile() method is mandatory.\n",
    "Sample Text: &quot;The following example creates an ArrayList with a capacity of 50 elements. 4 elements\n",
    "are then added to the ArrayList and the ArrayList is trimmed accordingly.&quot;\n",
    "Expected Output: following example creates ArrayList a capacity elements. 4 elements added ArrayList\n",
    "ArrayList trimmed accordingly."
   ]
  },
  {
   "cell_type": "code",
   "execution_count": 107,
   "id": "2045ce2c",
   "metadata": {},
   "outputs": [
    {
     "name": "stdout",
     "output_type": "stream",
     "text": [
      " following example creates  ArrayList  a capacity   elements. 4 elements   added   ArrayList   ArrayList  trimmed accordingly.\n"
     ]
    }
   ],
   "source": [
    "def remove_words(str1):   \n",
    "    shortword = re.compile(r'\\b\\w{2,4}\\b')   \n",
    "    print(shortword.sub('', text)) \n",
    "    \n",
    "text = \"The following example creates an ArrayList with a capacity of 50 elements. 4 elements are then added to the ArrayList and the ArrayList is trimmed accordingly.\"\n",
    "remove_words(text)"
   ]
  }
 ],
 "metadata": {
  "kernelspec": {
   "display_name": "Python 3 (ipykernel)",
   "language": "python",
   "name": "python3"
  },
  "language_info": {
   "codemirror_mode": {
    "name": "ipython",
    "version": 3
   },
   "file_extension": ".py",
   "mimetype": "text/x-python",
   "name": "python",
   "nbconvert_exporter": "python",
   "pygments_lexer": "ipython3",
   "version": "3.11.5"
  }
 },
 "nbformat": 4,
 "nbformat_minor": 5
}
